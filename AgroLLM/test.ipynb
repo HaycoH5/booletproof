{
 "cells": [
  {
   "cell_type": "code",
   "execution_count": 1,
   "metadata": {},
   "outputs": [],
   "source": [
    "import os\n",
    "import re\n",
    "import getpass\n",
    "import requests\n",
    "import openai\n",
    "from openai import OpenAI"
   ]
  },
  {
   "cell_type": "code",
   "execution_count": 6,
   "metadata": {},
   "outputs": [],
   "source": [
    "import pandas as pd\n",
    "from typing import List\n"
   ]
  },
  {
   "cell_type": "code",
   "execution_count": 7,
   "metadata": {},
   "outputs": [
    {
     "name": "stdout",
     "output_type": "stream",
     "text": [
      "\n",
      "Available sheets:\n",
      "Messages: ['Полевые работы']\n",
      "Examples: ['Таблица']\n",
      "Extra info: ['Принадлежность отделений и ПУ', 'Названия операций', 'Наименование культур']\n",
      "\n"
     ]
    }
   ],
   "source": [
    "def get_sheet_names(file_path: str) -> List[str]:\n",
    "    \"\"\"Get sheet names from Excel file\"\"\"\n",
    "    try:\n",
    "        xl = pd.ExcelFile(file_path, engine='openpyxl')\n",
    "        return xl.sheet_names\n",
    "    except Exception as e:\n",
    "        print(f\"Error reading sheet names from {file_path}: {e}\")\n",
    "        return []\n",
    "\n",
    "messages_sheets = get_sheet_names(\"examples/messages.xlsx\")\n",
    "examples_sheets = get_sheet_names(\"examples/processed_examples.xlsx\")\n",
    "extra_info_sheets = get_sheet_names(\"examples/extra_information.xlsx\")\n",
    "\n",
    "print(\"\\nAvailable sheets:\")\n",
    "print(f\"Messages: {messages_sheets}\")\n",
    "print(f\"Examples: {examples_sheets}\")\n",
    "print(f\"Extra info: {extra_info_sheets}\\n\")\n",
    "\n",
    "# Read messages\n",
    "messages_df = pd.read_excel(\n",
    "    \"examples/messages.xlsx\",\n",
    "    sheet_name=messages_sheets[0],  # First sheet by default\n",
    "    engine='openpyxl'\n",
    ")"
   ]
  },
  {
   "cell_type": "code",
   "execution_count": null,
   "metadata": {},
   "outputs": [],
   "source": [
    "Дата\tПодразделение\tОперация\tКультура\tЗа день, га\tС начала операции, га\tВал за день, ц\tВал с начала, ц\n"
   ]
  },
  {
   "cell_type": "code",
   "execution_count": 8,
   "metadata": {},
   "outputs": [
    {
     "data": {
      "text/html": [
       "<div>\n",
       "<style scoped>\n",
       "    .dataframe tbody tr th:only-of-type {\n",
       "        vertical-align: middle;\n",
       "    }\n",
       "\n",
       "    .dataframe tbody tr th {\n",
       "        vertical-align: top;\n",
       "    }\n",
       "\n",
       "    .dataframe thead th {\n",
       "        text-align: right;\n",
       "    }\n",
       "</style>\n",
       "<table border=\"1\" class=\"dataframe\">\n",
       "  <thead>\n",
       "    <tr style=\"text-align: right;\">\n",
       "      <th></th>\n",
       "      <th>Данные для тренировки</th>\n",
       "    </tr>\n",
       "  </thead>\n",
       "  <tbody>\n",
       "    <tr>\n",
       "      <th>0</th>\n",
       "      <td>NaN</td>\n",
       "    </tr>\n",
       "    <tr>\n",
       "      <th>1</th>\n",
       "      <td>Пахота зяби под мн тр\\nПо Пу 26/488\\nОтд 12 26...</td>\n",
       "    </tr>\n",
       "    <tr>\n",
       "      <th>2</th>\n",
       "      <td>Пахота зяби под мн тр\\nПо Пу 26/514\\nОтд 12 26...</td>\n",
       "    </tr>\n",
       "    <tr>\n",
       "      <th>3</th>\n",
       "      <td>Пахота зяби под сою\\nПо Пу 29/1367\\nОтд 16 29/...</td>\n",
       "    </tr>\n",
       "    <tr>\n",
       "      <th>4</th>\n",
       "      <td>12.10\\nВнесение мин удобрений под оз пшеницу 2...</td>\n",
       "    </tr>\n",
       "    <tr>\n",
       "      <th>...</th>\n",
       "      <td>...</td>\n",
       "    </tr>\n",
       "    <tr>\n",
       "      <th>102</th>\n",
       "      <td>Полевые работы АОР, 13.11.2024.\\nПахота под ку...</td>\n",
       "    </tr>\n",
       "    <tr>\n",
       "      <th>103</th>\n",
       "      <td>14.11 Мир\\nПахота зяби под кукурузу 57 га день...</td>\n",
       "    </tr>\n",
       "    <tr>\n",
       "      <th>104</th>\n",
       "      <td>14.11.24.\\nСП Коломейцево \\n\\nПахота под сах.с...</td>\n",
       "    </tr>\n",
       "    <tr>\n",
       "      <th>105</th>\n",
       "      <td>ТСК\\nВспашка под кукурузу 70 га/ с нарастающим...</td>\n",
       "    </tr>\n",
       "    <tr>\n",
       "      <th>106</th>\n",
       "      <td>Полевые работы АОР, 14.11.2024.\\nПахота под ку...</td>\n",
       "    </tr>\n",
       "  </tbody>\n",
       "</table>\n",
       "<p>107 rows × 1 columns</p>\n",
       "</div>"
      ],
      "text/plain": [
       "                                 Данные для тренировки\n",
       "0                                                  NaN\n",
       "1    Пахота зяби под мн тр\\nПо Пу 26/488\\nОтд 12 26...\n",
       "2    Пахота зяби под мн тр\\nПо Пу 26/514\\nОтд 12 26...\n",
       "3    Пахота зяби под сою\\nПо Пу 29/1367\\nОтд 16 29/...\n",
       "4    12.10\\nВнесение мин удобрений под оз пшеницу 2...\n",
       "..                                                 ...\n",
       "102  Полевые работы АОР, 13.11.2024.\\nПахота под ку...\n",
       "103  14.11 Мир\\nПахота зяби под кукурузу 57 га день...\n",
       "104  14.11.24.\\nСП Коломейцево \\n\\nПахота под сах.с...\n",
       "105  ТСК\\nВспашка под кукурузу 70 га/ с нарастающим...\n",
       "106  Полевые работы АОР, 14.11.2024.\\nПахота под ку...\n",
       "\n",
       "[107 rows x 1 columns]"
      ]
     },
     "execution_count": 8,
     "metadata": {},
     "output_type": "execute_result"
    }
   ],
   "source": [
    "messages_df"
   ]
  },
  {
   "cell_type": "code",
   "execution_count": 3,
   "metadata": {},
   "outputs": [],
   "source": [
    "#@title Запрашиваем ключ API пользователя и устанавливаем его как переменную окружения\n",
    "openai_key = getpass.getpass(\"Введи ваш VseGPT ключ API:\")\n",
    "os.environ[\"OPENAI_API_KEY\"] = openai_key"
   ]
  },
  {
   "cell_type": "code",
   "execution_count": null,
   "metadata": {},
   "outputs": [],
   "source": [
    "#@title Демо запроса\n",
    "client = OpenAI(\n",
    "    api_key=openai_key, # ваш ключ в VseGPT после регистрации\n",
    "    base_url=\"https://api.vsegpt.ru/v1\",\n",
    "\n",
    ")\n",
    "\n",
    "messages = [\n",
    "  {\"role\": \"system\", \"content\": \"Ты - большая языковая модель. Отвечай на вопросы пользователя.\"},\n",
    "  {\"role\": \"user\", \"content\": \"Как дела?\"}]\n",
    "completion = client.chat.completions.create(\n",
    "    model='openai/gpt-4o-mini',\n",
    "    messages=messages,\n",
    "    temperature=0.1,\n",
    "    extra_headers={ \"X-Title\": \"Colab Base Example\" }, # опционально - передача информация об источнике API-вызова\n",
    ")\n",
    "answer = completion.choices[0].message.content\n",
    "\n",
    "print(answer)\n"
   ]
  }
 ],
 "metadata": {
  "kernelspec": {
   "display_name": ".venv",
   "language": "python",
   "name": "python3"
  },
  "language_info": {
   "codemirror_mode": {
    "name": "ipython",
    "version": 3
   },
   "file_extension": ".py",
   "mimetype": "text/x-python",
   "name": "python",
   "nbconvert_exporter": "python",
   "pygments_lexer": "ipython3",
   "version": "3.10.9"
  }
 },
 "nbformat": 4,
 "nbformat_minor": 2
}
